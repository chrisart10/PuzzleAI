{
  "nbformat": 4,
  "nbformat_minor": 0,
  "metadata": {
    "colab": {
      "name": "pipeline2_extrac_faces.ipynb",
      "private_outputs": true,
      "provenance": [],
      "collapsed_sections": [],
      "toc_visible": true,
      "include_colab_link": true
    },
    "kernelspec": {
      "name": "python3",
      "display_name": "Python 3"
    },
    "accelerator": "GPU"
  },
  "cells": [
    {
      "cell_type": "markdown",
      "metadata": {
        "id": "view-in-github",
        "colab_type": "text"
      },
      "source": [
        "<a href=\"https://colab.research.google.com/github/chrisart10/PuzzleAI/blob/main/pipeline2_extrac_faces.ipynb\" target=\"_parent\"><img src=\"https://colab.research.google.com/assets/colab-badge.svg\" alt=\"Open In Colab\"/></a>"
      ]
    },
    {
      "cell_type": "code",
      "metadata": {
        "id": "8UYlsjsyd_Nt"
      },
      "source": [
        "from google.colab import drive\n",
        "drive.mount('/content/drive')"
      ],
      "execution_count": null,
      "outputs": []
    },
    {
      "cell_type": "markdown",
      "metadata": {
        "id": "j4xkiuktta1U"
      },
      "source": [
        "# Datos"
      ]
    },
    {
      "cell_type": "code",
      "metadata": {
        "id": "IkbSGQYLte0K"
      },
      "source": [
        ""
      ],
      "execution_count": null,
      "outputs": []
    },
    {
      "cell_type": "markdown",
      "metadata": {
        "id": "sQR1GT8Mdwi1"
      },
      "source": [
        "# Detection de Cara"
      ]
    },
    {
      "cell_type": "code",
      "metadata": {
        "id": "DkaWR_6Ke9Uk"
      },
      "source": [
        "import matplotlib"
      ],
      "execution_count": null,
      "outputs": []
    },
    {
      "cell_type": "code",
      "metadata": {
        "id": "-FjiFQzShLEd"
      },
      "source": [
        "!pip install face_recognition"
      ],
      "execution_count": null,
      "outputs": []
    },
    {
      "cell_type": "code",
      "metadata": {
        "id": "-h3d1kmFhsU8"
      },
      "source": [
        "import face_recognition\r\n",
        "import cv2 \r\n",
        "import os \r\n",
        "from google.colab.patches import cv2_imshow\r\n",
        "import matplotlib.pyplot as plt\r\n",
        "from skimage import io\r\n",
        "\r\n",
        "def read_img(path):\r\n",
        "  img = cv2.imread(path)\r\n",
        "  (h, w) = img.shape[:2]\r\n",
        "  width = 500\r\n",
        "  ratio = width/float(w)\r\n",
        "  height = int(h * ratio)\r\n",
        "  return cv2.resize(img, (width, height))\r\n",
        "\r\n",
        "image = read_img(\"No_conocidos/multi_face.png\")\r\n",
        "cantidad_rostros = range(len(face_recognition.face_locations(image)))\r\n",
        "\r\n",
        "rostro = cv2_imshow(image)\r\n",
        "#nombre = 'face' + str(2)\r\n",
        "#image = image[: , : , :: -1]\r\n",
        "#io.imsave(\"No_conocidos/\" + nombre + \".png\" ,image)\r\n",
        "\r\n",
        "\r\n",
        "\r\n",
        "for x in cantidad_rostros:\r\n",
        "  print(x)\r\n",
        "  (top, right, bottom, left) = face_recognition.face_locations(image)[x]\r\n",
        "  #cv2.rectangle(image, (left, top) , (right, bottom), (0,0,255), 2)\r\n",
        "  #rostro = cv2_imshow(image)\r\n",
        "  image_prueba = image[top:bottom, left:right]\r\n",
        "  nombre = 'face' + str(x)\r\n",
        "  image_prueba = image_prueba[: , : , :: -1]\r\n",
        "  io.imsave(\"No_conocidos/\" + nombre + \".png\" ,image_prueba)\r\n",
        "  \r\n",
        "  #rostro = cv2_imshow(image_prueba)\r\n",
        "\r\n",
        "#print(top, left, right, bottom)\r\n",
        "\r\n",
        "#nombre = \"face\"\r\n",
        "#image_prueba = image_prueba[: , : , :: -1]\r\n",
        "#io.imsave(\"No_conocidos/\" + nombre + \".png\" ,image_prueba )\r\n",
        "#plt.savefig(\"No_conocidos/\"+nombre)\r\n",
        "#rostro = cv2_imshow(image_prueba)\r\n",
        "\r\n",
        "\r\n"
      ],
      "execution_count": null,
      "outputs": []
    }
  ]
}